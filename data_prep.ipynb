{
 "cells": [
  {
   "cell_type": "code",
   "execution_count": 1,
   "metadata": {},
   "outputs": [],
   "source": [
    "import os, requests\n",
    "from io import BytesIO\n",
    "from zipfile import ZipFile\n",
    "from glob import glob\n",
    "import numpy as np\n",
    "np.random.seed(1775)"
   ]
  },
  {
   "cell_type": "code",
   "execution_count": 3,
   "metadata": {},
   "outputs": [],
   "source": [
    "DATA_DIR = '/data/rgbd_face_data/kinect'\n",
    "pjoin = os.path.join\n",
    "os.makedirs(DATA_DIR)\n",
    "os.chdir(DATA_DIR)"
   ]
  },
  {
   "cell_type": "code",
   "execution_count": 4,
   "metadata": {},
   "outputs": [],
   "source": [
    "links=[\"http://vap.aau.dk/wp-content/uploads/VAPRBGD/(2012-05-16)(151751).zip\",\n",
    "       \"http://vap.aau.dk/wp-content/uploads/VAPRBGD/(2012-05-16)(153054).zip\",\n",
    "       \"http://vap.aau.dk/wp-content/uploads/VAPRBGD/(2012-05-16)(154211).zip\",\n",
    "       \"http://vap.aau.dk/wp-content/uploads/VAPRBGD/(2012-05-16)(160440).zip\",\n",
    "       \"http://vap.aau.dk/wp-content/uploads/VAPRBGD/(2012-05-16)(160931).zip\",\n",
    "       \"http://vap.aau.dk/wp-content/uploads/VAPRBGD/(2012-05-16)(161342).zip\",\n",
    "       \"http://vap.aau.dk/wp-content/uploads/VAPRBGD/(2012-05-16)(163349).zip\",\n",
    "       \"http://vap.aau.dk/wp-content/uploads/VAPRBGD/(2012-05-16)(164248).zip\",\n",
    "       \"http://vap.aau.dk/wp-content/uploads/VAPRBGD/(2012-05-17)(141550).zip\",\n",
    "       \"http://vap.aau.dk/wp-content/uploads/VAPRBGD/(2012-05-17)(142154).zip\",\n",
    "       \"http://vap.aau.dk/wp-content/uploads/VAPRBGD/(2012-05-17)(142457).zip\",\n",
    "       \"http://vap.aau.dk/wp-content/uploads/VAPRBGD/(2012-05-17)(143016).zip\",\n",
    "       \"http://vap.aau.dk/wp-content/uploads/VAPRBGD/(2012-05-18)(132824).zip\", \n",
    "       \"http://vap.aau.dk/wp-content/uploads/VAPRBGD/(2012-05-18)(133201).zip\", \n",
    "       \"http://vap.aau.dk/wp-content/uploads/VAPRBGD/(2012-05-18)(133846).zip\",\n",
    "       \"http://vap.aau.dk/wp-content/uploads/VAPRBGD/(2012-05-18)(134239).zip\", \n",
    "       \"http://vap.aau.dk/wp-content/uploads/VAPRBGD/(2012-05-18)(134757).zip\", \n",
    "       \"http://vap.aau.dk/wp-content/uploads/VAPRBGD/(2012-05-18)(140516).zip\", \n",
    "       \"http://vap.aau.dk/wp-content/uploads/VAPRBGD/(2012-05-18)(143345).zip\", \n",
    "       \"http://vap.aau.dk/wp-content/uploads/VAPRBGD/(2012-05-18)(144316).zip\", \n",
    "       \"http://vap.aau.dk/wp-content/uploads/VAPRBGD/(2012-05-18)(145150).zip\", \n",
    "       \"http://vap.aau.dk/wp-content/uploads/VAPRBGD/(2012-05-18)(145623).zip\", \n",
    "       \"http://vap.aau.dk/wp-content/uploads/VAPRBGD/(2012-05-18)(150303).zip\",\n",
    "       \"http://vap.aau.dk/wp-content/uploads/VAPRBGD/(2012-05-18)(150650).zip\", \n",
    "       \"http://vap.aau.dk/wp-content/uploads/VAPRBGD/(2012-05-18)(151337).zip\", \n",
    "       \"http://vap.aau.dk/wp-content/uploads/VAPRBGD/(2012-05-18)(151650).zip\",\n",
    "       \"http://vap.aau.dk/wp-content/uploads/VAPRBGD/(2012-05-18)(152717).zip\", \n",
    "       \"http://vap.aau.dk/wp-content/uploads/VAPRBGD/(2012-05-18)(153532).zip\", \n",
    "       \"http://vap.aau.dk/wp-content/uploads/VAPRBGD/(2012-05-18)(154129).zip\", \n",
    "       \"http://vap.aau.dk/wp-content/uploads/VAPRBGD/(2012-05-18)(154728).zip\", \n",
    "       \"http://vap.aau.dk/wp-content/uploads/VAPRBGD/(2012-05-18)(155357).zip\"]"
   ]
  },
  {
   "cell_type": "code",
   "execution_count": 5,
   "metadata": {},
   "outputs": [
    {
     "name": "stdout",
     "output_type": "stream",
     "text": [
      "0.0% complete\n",
      "3.225806451612903% complete\n",
      "6.451612903225806% complete\n",
      "9.67741935483871% complete\n",
      "12.903225806451612% complete\n",
      "16.129032258064516% complete\n",
      "19.35483870967742% complete\n",
      "22.58064516129032% complete\n",
      "25.806451612903224% complete\n",
      "29.03225806451613% complete\n",
      "32.25806451612903% complete\n",
      "35.483870967741936% complete\n",
      "38.70967741935484% complete\n",
      "41.935483870967744% complete\n",
      "45.16129032258064% complete\n",
      "48.38709677419355% complete\n",
      "51.61290322580645% complete\n",
      "54.83870967741935% complete\n",
      "58.06451612903226% complete\n",
      "61.29032258064516% complete\n",
      "64.51612903225806% complete\n",
      "67.74193548387096% complete\n",
      "70.96774193548387% complete\n",
      "74.19354838709677% complete\n",
      "77.41935483870968% complete\n",
      "80.64516129032258% complete\n",
      "83.87096774193549% complete\n",
      "87.09677419354838% complete\n",
      "90.32258064516128% complete\n",
      "93.54838709677419% complete\n",
      "96.7741935483871% complete\n"
     ]
    }
   ],
   "source": [
    "for i, link in enumerate(links):\n",
    "    r = requests.get(link, stream=True)\n",
    "    with ZipFile(BytesIO(r.content)) as z:\n",
    "        z.extractall()\n",
    "    os.rename(os.path.basename(link[:-4]), \"s\"+str(i+1))\n",
    "    print('{}% complete'.format(((i+1)/len(links))*100))"
   ]
  },
  {
   "cell_type": "code",
   "execution_count": 6,
   "metadata": {},
   "outputs": [],
   "source": [
    "test = np.random.choice(os.listdir(), size=len(links)//10).tolist()\n",
    "train = list(set(os.listdir())-set(test))"
   ]
  },
  {
   "cell_type": "code",
   "execution_count": 7,
   "metadata": {},
   "outputs": [],
   "source": [
    "os.makedirs(pjoin(DATA_DIR,'train'))\n",
    "os.makedirs(pjoin(DATA_DIR, 'test'))"
   ]
  },
  {
   "cell_type": "code",
   "execution_count": 8,
   "metadata": {},
   "outputs": [],
   "source": [
    "for folder in test:\n",
    "    os.rename(folder, 'test/'+folder)\n",
    "for folder in train:\n",
    "    os.rename(folder, 'train/'+folder)"
   ]
  },
  {
   "cell_type": "code",
   "execution_count": 11,
   "metadata": {},
   "outputs": [
    {
     "data": {
      "text/plain": [
       "['/data/rgbd_face_data/kinect/train/s25',\n",
       " '/data/rgbd_face_data/kinect/train/s16',\n",
       " '/data/rgbd_face_data/kinect/train/s21',\n",
       " '/data/rgbd_face_data/kinect/train/s11',\n",
       " '/data/rgbd_face_data/kinect/train/s18',\n",
       " '/data/rgbd_face_data/kinect/train/s27',\n",
       " '/data/rgbd_face_data/kinect/train/s8',\n",
       " '/data/rgbd_face_data/kinect/train/s24',\n",
       " '/data/rgbd_face_data/kinect/train/s30',\n",
       " '/data/rgbd_face_data/kinect/train/s17',\n",
       " '/data/rgbd_face_data/kinect/train/s5',\n",
       " '/data/rgbd_face_data/kinect/train/s19',\n",
       " '/data/rgbd_face_data/kinect/train/s20',\n",
       " '/data/rgbd_face_data/kinect/train/s10',\n",
       " '/data/rgbd_face_data/kinect/train/s13',\n",
       " '/data/rgbd_face_data/kinect/train/s14',\n",
       " '/data/rgbd_face_data/kinect/train/s26',\n",
       " '/data/rgbd_face_data/kinect/train/s23',\n",
       " '/data/rgbd_face_data/kinect/train/s3',\n",
       " '/data/rgbd_face_data/kinect/train/s6',\n",
       " '/data/rgbd_face_data/kinect/train/s9',\n",
       " '/data/rgbd_face_data/kinect/train/s7',\n",
       " '/data/rgbd_face_data/kinect/train/s2',\n",
       " '/data/rgbd_face_data/kinect/train/s4',\n",
       " '/data/rgbd_face_data/kinect/train/s22',\n",
       " '/data/rgbd_face_data/kinect/train/s15',\n",
       " '/data/rgbd_face_data/kinect/train/s12',\n",
       " '/data/rgbd_face_data/kinect/train/s1',\n",
       " '/data/rgbd_face_data/kinect/test/s31',\n",
       " '/data/rgbd_face_data/kinect/test/s28',\n",
       " '/data/rgbd_face_data/kinect/test/s29']"
      ]
     },
     "execution_count": 11,
     "metadata": {},
     "output_type": "execute_result"
    }
   ],
   "source": [
    "train_dir = '/data/rgbd_face_data/kinect/train'\n",
    "test_dir = '/data/rgbd_face_data/kinect/test'\n",
    "for old_dir in glob(train_dir + '/*') + glob(test_dir + '/*'):\n",
    "    os.makedirs(old_dir.replace('kinect', 'kinect_cropped'))\n",
    "    for item in glob.glob(old_dir + '/*'):\n",
    "        if item.endswith('.dat'):\n",
    "            dmap = pd.read_csv(item, sep='\\t', header=None).values\n",
    "            dmap = dmap[140:340, 220:420]\n",
    "            dmap[(dmap > 3000)|(dmap == -1)] = 3000\n",
    "            dmap = (dmap - np.mean(dmap))/np.max(dmap)\n",
    "            dmap = np.uint8(dmap*255)\n",
    "            dmap = Image.fromarray(dmap, 'L').resize((100,100))\n",
    "            dmap = np.asarray(dmap)\n",
    "            fname = item.replace('kinect', 'kinect_cropped')\n",
    "            fname = fname.replace('.dat', '.npy')\n",
    "            np.save(fname, dmap)\n",
    "        else:\n",
    "            img = Image.open(item)\n",
    "            img = img.convert('RGB')\n",
    "            img.thumbnail((640,480))\n",
    "            img = np.asarray(img)[140:340, 220:420,:]\n",
    "            img = Image.fromarray(img).resize((100,100))\n",
    "            fname = item.replace('kinect', 'kinect_cropped')\n",
    "            img.save(fname)\n",
    "            _, hog_image = hog(img, orientations=8, pixels_per_cell=(2, 2),\n",
    "                               cells_per_block=(1, 1), visualize=True,\n",
    "                               multichannel=True, block_norm='L2',\n",
    "                               transform_sqrt=True)\n",
    "            fname = fname.replace('c.bmp', 'h.npy')\n",
    "            np.save(fname,hog_image)"
   ]
  },
  {
   "cell_type": "code",
   "execution_count": null,
   "metadata": {},
   "outputs": [],
   "source": []
  }
 ],
 "metadata": {
  "kernelspec": {
   "display_name": "Python 3",
   "language": "python",
   "name": "python3"
  },
  "language_info": {
   "codemirror_mode": {
    "name": "ipython",
    "version": 3
   },
   "file_extension": ".py",
   "mimetype": "text/x-python",
   "name": "python",
   "nbconvert_exporter": "python",
   "pygments_lexer": "ipython3",
   "version": "3.5.2"
  }
 },
 "nbformat": 4,
 "nbformat_minor": 2
}
