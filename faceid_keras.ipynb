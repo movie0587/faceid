{
 "cells": [
  {
   "cell_type": "code",
   "execution_count": 11,
   "metadata": {},
   "outputs": [],
   "source": [
    "import zipfile, os\n",
    "import pandas as pd\n",
    "import numpy as np\n",
    "from PIL import Image\n",
    "from glob import glob\n",
    "from datetime import datetime as dt"
   ]
  },
  {
   "cell_type": "code",
   "execution_count": 12,
   "metadata": {},
   "outputs": [],
   "source": [
    "np.random.seed(1775)"
   ]
  },
  {
   "cell_type": "code",
   "execution_count": 13,
   "metadata": {},
   "outputs": [],
   "source": [
    "pjoin = os.path.join\n",
    "TRAIN_FOLDERS = glob('/data/rgbd_face_data/train/*')\n",
    "TEST_FOLDERS = glob('/data/rgbd_face_data/test/*')"
   ]
  },
  {
   "cell_type": "code",
   "execution_count": 14,
   "metadata": {},
   "outputs": [],
   "source": [
    "def make_img_pair(fpaths, identical=True):\n",
    "    folder1 = folder2 = np.random.choice(fpaths)\n",
    "    if not identical:\n",
    "        while os.path.samefile(folder1, folder2):\n",
    "            folder2 = np.random.choice(fpaths)\n",
    "    rgb_path1 = rgb_path2 = np.random.choice(glob(pjoin(folder1, \"*.bmp\")))\n",
    "    while os.path.samefile(rgb_path1, rgb_path2):\n",
    "        rgb_path2 = np.random.choice(glob(pjoin(folder2, \"*.bmp\")))\n",
    "    depth_path1 = rgb_path1[:-5] + \"d.dat\"\n",
    "    depth_path2 = rgb_path2[:-5] + \"d.dat\"\n",
    "    \n",
    "    # process image 1\n",
    "    rgb1 = Image.open(rgb_path1)\n",
    "    rgb1.thumbnail((640,480))\n",
    "    rgb1 = np.asarray(rgb1)[140:340, 220:420, :3]\n",
    "    depth1 = pd.read_csv(depth_path1, sep='\\t', header=None)\n",
    "    depth1[(depth1 > 3000)|(depth1 == -1)] = 3000\n",
    "    depth1 = depth1.values[140:340, 220:420]\n",
    "    depth1 = (depth1 - np.mean(depth1))/np.max(depth1)\n",
    "    rgbd1 = np.dstack((rgb1, depth1))\n",
    "    \n",
    "    # process image 2\n",
    "    rgb2 = Image.open(rgb_path1)\n",
    "    rgb2.thumbnail((640,480))\n",
    "    rgb2 = np.asarray(rgb2)[140:340, 220:420, :3]\n",
    "    depth2 = pd.read_csv(depth_path2, sep='\\t', header=None)\n",
    "    depth2[(depth2 > 3000)|(depth2 == -1)] = 3000\n",
    "    depth2 = depth2.values[140:340, 220:420]\n",
    "    depth2 = (depth2 - np.mean(depth2))/np.max(depth2)\n",
    "    rgbd2 = np.dstack((rgb2, depth2))\n",
    "    \n",
    "    return np.array([rgbd1, rgbd2])"
   ]
  },
  {
   "cell_type": "markdown",
   "metadata": {},
   "source": [
    "# Network\n",
    "---"
   ]
  },
  {
   "cell_type": "code",
   "execution_count": 15,
   "metadata": {},
   "outputs": [
    {
     "data": {
      "text/plain": [
       "['/job:localhost/replica:0/task:0/device:GPU:0']"
      ]
     },
     "execution_count": 15,
     "metadata": {},
     "output_type": "execute_result"
    }
   ],
   "source": [
    "from keras.models import Sequential, Model\n",
    "from keras.layers import Dense, Activation, Flatten, Dropout, Lambda, ELU, concatenate, GlobalAveragePooling2D, Input, BatchNormalization, SeparableConv2D, Subtract, concatenate\n",
    "from keras.activations import relu, softmax\n",
    "from keras.layers.convolutional import Convolution2D\n",
    "from keras.layers.pooling import MaxPooling2D, AveragePooling2D\n",
    "from keras.optimizers import Adam, RMSprop, SGD\n",
    "from keras.regularizers import l2\n",
    "from keras import backend as K\n",
    "from keras.callbacks import TensorBoard\n",
    "K.tensorflow_backend._get_available_gpus()"
   ]
  },
  {
   "cell_type": "code",
   "execution_count": 16,
   "metadata": {},
   "outputs": [],
   "source": [
    "def euclidean_distance(inputs):\n",
    "    assert len(inputs) == 2, 'Euclidean distance needs 2 inputs, {} given'.format(len(inputs))\n",
    "    u, v = inputs\n",
    "    return K.sqrt(K.sum((K.square(u - v)), axis=1, keepdims=True))\n",
    "        \n",
    "\n",
    "def contrastive_loss(y_true,y_pred):\n",
    "    margin=1.\n",
    "    return K.mean((1. - y_true) * K.square(y_pred) + y_true * K.square(K.maximum(margin - y_pred, 0.)))\n",
    "\n",
    "def generator(batch_size, folders):\n",
    "    while True:\n",
    "        X = []\n",
    "        y = []\n",
    "        identical = True\n",
    "        for _ in range(batch_size):\n",
    "            X.append(make_img_pair(folders, identical=identical))\n",
    "            y.append(np.array([0.]))\n",
    "            identical = not identical\n",
    "        X = np.asarray(X)\n",
    "        y = np.asarray(y)\n",
    "        yield [X[:,0],X[:,1]], y\n",
    "        \n",
    "def fire(x, squeeze=16, expand=64):\n",
    "    x = Convolution2D(squeeze, (1,1), padding='valid')(x)\n",
    "    x = Activation('relu')(x)\n",
    "    \n",
    "    left = Convolution2D(expand, (1,1), padding='valid')(x)\n",
    "    left = Activation('relu')(left)\n",
    "    \n",
    "    right = Convolution2D(expand, (3,3), padding='same')(x)\n",
    "    right = Activation('relu')(right)\n",
    "    \n",
    "    x = concatenate([left, right], axis=3)\n",
    "    return x"
   ]
  },
  {
   "cell_type": "code",
   "execution_count": 17,
   "metadata": {},
   "outputs": [],
   "source": [
    "img_input=Input(shape=(200,200,4))\n",
    "\n",
    "x = Convolution2D(64, (5, 5), strides=(2, 2), padding='valid')(img_input)\n",
    "x = BatchNormalization()(x)\n",
    "x = Activation('relu')(x)\n",
    "x = MaxPooling2D(pool_size=(3, 3), strides=(2, 2))(x)\n",
    "\n",
    "x = fire(x, squeeze=16, expand=16)\n",
    "\n",
    "x = fire(x, squeeze=16, expand=16)\n",
    "\n",
    "x = MaxPooling2D(pool_size=(3, 3), strides=(2, 2))(x)\n",
    "\n",
    "\n",
    "x = fire(x, squeeze=32, expand=32)\n",
    "\n",
    "x = fire(x, squeeze=32, expand=32)\n",
    "\n",
    "x = MaxPooling2D(pool_size=(3, 3), strides=(2, 2))(x)\n",
    "\n",
    "\n",
    "x = fire(x, squeeze=48, expand=48)\n",
    "\n",
    "x = fire(x, squeeze=48, expand=48)\n",
    "\n",
    "x = fire(x, squeeze=64, expand=64)\n",
    "\n",
    "x = fire(x, squeeze=64, expand=64)\n",
    "\n",
    "x = Dropout(0.2)(x)\n",
    "\n",
    "x = Convolution2D(512, (1, 1), padding='same')(x)\n",
    "out = Activation('relu')(x)\n",
    "\n",
    "\n",
    "modelsqueeze = Model(img_input, out)"
   ]
  },
  {
   "cell_type": "code",
   "execution_count": 18,
   "metadata": {},
   "outputs": [
    {
     "name": "stdout",
     "output_type": "stream",
     "text": [
      "_________________________________________________________________\n",
      "Layer (type)                 Output Shape              Param #   \n",
      "=================================================================\n",
      "input_6 (InputLayer)         (None, 200, 200, 4)       0         \n",
      "_________________________________________________________________\n",
      "model_4 (Model)              (None, 11, 11, 512)       253952    \n",
      "_________________________________________________________________\n",
      "flatten_2 (Flatten)          (None, 61952)             0         \n",
      "_________________________________________________________________\n",
      "dense_3 (Dense)              (None, 512)               31719936  \n",
      "_________________________________________________________________\n",
      "dropout_4 (Dropout)          (None, 512)               0         \n",
      "_________________________________________________________________\n",
      "dense_4 (Dense)              (None, 128)               65664     \n",
      "_________________________________________________________________\n",
      "lambda_3 (Lambda)            (None, 128)               0         \n",
      "=================================================================\n",
      "Total params: 32,039,552\n",
      "Trainable params: 32,039,424\n",
      "Non-trainable params: 128\n",
      "_________________________________________________________________\n",
      "__________________________________________________________________________________________________\n",
      "Layer (type)                    Output Shape         Param #     Connected to                     \n",
      "==================================================================================================\n",
      "input_7 (InputLayer)            (None, 200, 200, 4)  0                                            \n",
      "__________________________________________________________________________________________________\n",
      "input_8 (InputLayer)            (None, 200, 200, 4)  0                                            \n",
      "__________________________________________________________________________________________________\n",
      "model_5 (Model)                 (None, 128)          32039552    input_7[0][0]                    \n",
      "                                                                 input_8[0][0]                    \n",
      "__________________________________________________________________________________________________\n",
      "lambda_4 (Lambda)               (None, 1)            0           model_5[1][0]                    \n",
      "                                                                 model_5[2][0]                    \n",
      "==================================================================================================\n",
      "Total params: 32,039,552\n",
      "Trainable params: 32,039,424\n",
      "Non-trainable params: 128\n",
      "__________________________________________________________________________________________________\n"
     ]
    }
   ],
   "source": [
    "im_in = Input(shape=(200,200,4))\n",
    "\n",
    "x1 = modelsqueeze(im_in)\n",
    "\n",
    "x1 = Flatten()(x1)\n",
    "\n",
    "x1 = Dense(512, activation=\"relu\")(x1)\n",
    "x1 = Dropout(0.2)(x1)\n",
    "feat_x = Dense(128, activation=\"linear\")(x1)\n",
    "feat_x = Lambda(lambda  x: K.l2_normalize(x,axis=1))(feat_x)\n",
    "\n",
    "\n",
    "model_top = Model(inputs = [im_in], outputs = feat_x)\n",
    "\n",
    "model_top.summary()\n",
    "\n",
    "im_in1 = Input(shape=(200,200,4))\n",
    "im_in2 = Input(shape=(200,200,4))\n",
    "\n",
    "feat_x1 = model_top(im_in1)\n",
    "feat_x2 = model_top(im_in2)\n",
    "\n",
    "\n",
    "lambda_merge = Lambda(euclidean_distance)([feat_x1, feat_x2])\n",
    "\n",
    "\n",
    "model_final = Model(inputs = [im_in1, im_in2], outputs = lambda_merge)\n",
    "\n",
    "model_final.summary()\n",
    "\n",
    "adam = Adam(lr=0.001)\n",
    "\n",
    "sgd = SGD(lr=0.001, momentum=0.9)\n",
    "\n",
    "model_final.compile(optimizer=adam, loss=contrastive_loss)"
   ]
  },
  {
   "cell_type": "code",
   "execution_count": null,
   "metadata": {},
   "outputs": [
    {
     "name": "stdout",
     "output_type": "stream",
     "text": [
      "Epoch 1/100\n",
      "30/30 [==============================] - 101s 3s/step - loss: 0.0646 - val_loss: 1.1127e-11\n",
      "Epoch 2/100\n",
      "30/30 [==============================] - 94s 3s/step - loss: 0.0145 - val_loss: 5.0250e-12\n",
      "Epoch 3/100\n",
      "30/30 [==============================] - 93s 3s/step - loss: 0.0091 - val_loss: 4.1515e-12\n",
      "Epoch 4/100\n",
      "30/30 [==============================] - 94s 3s/step - loss: 0.0062 - val_loss: 2.9868e-12\n",
      "Epoch 5/100\n",
      "30/30 [==============================] - 94s 3s/step - loss: 0.0035 - val_loss: 2.5099e-12\n",
      "Epoch 6/100\n",
      "30/30 [==============================] - 94s 3s/step - loss: 5.3506e-04 - val_loss: 1.2423e-14\n",
      "Epoch 7/100\n",
      "30/30 [==============================] - 95s 3s/step - loss: 1.2833e-05 - val_loss: 2.3769e-14\n",
      "Epoch 8/100\n",
      "30/30 [==============================] - 94s 3s/step - loss: 9.0104e-07 - val_loss: 2.2703e-14\n",
      "Epoch 9/100\n",
      "30/30 [==============================] - 94s 3s/step - loss: 1.3464e-07 - val_loss: 8.9505e-15\n",
      "Epoch 10/100\n",
      "30/30 [==============================] - 94s 3s/step - loss: 0.0013 - val_loss: 7.2161e-15\n",
      "Epoch 11/100\n",
      "30/30 [==============================] - 94s 3s/step - loss: 4.3349e-04 - val_loss: 7.2564e-15\n",
      "Epoch 12/100\n",
      "25/30 [========================>.....] - ETA: 13s - loss: 4.2085e-06"
     ]
    }
   ],
   "source": [
    "time = dt.strftime(dt.now(), format='%Y-%m-%d_%H:%M:%S')\n",
    "tensorboard = TensorBoard(log_dir='/home/astewart/repos/faceid/logs/{}'.format(time))\n",
    "\n",
    "outputs = model_final.fit_generator(generator(16, TRAIN_FOLDERS), \n",
    "                                    steps_per_epoch=30, epochs=100, verbose=1,\n",
    "                                    validation_data=generator(4, TEST_FOLDERS), \n",
    "                                    validation_steps=20, callbacks=[tensorboard])\n",
    "model_final.save('/home/astewart/repos/faceid/models/{}.hdf5'.format(time))"
   ]
  },
  {
   "cell_type": "code",
   "execution_count": null,
   "metadata": {},
   "outputs": [],
   "source": []
  }
 ],
 "metadata": {
  "kernelspec": {
   "display_name": "Python 3",
   "language": "python",
   "name": "python3"
  },
  "language_info": {
   "codemirror_mode": {
    "name": "ipython",
    "version": 3
   },
   "file_extension": ".py",
   "mimetype": "text/x-python",
   "name": "python",
   "nbconvert_exporter": "python",
   "pygments_lexer": "ipython3",
   "version": "3.5.2"
  }
 },
 "nbformat": 4,
 "nbformat_minor": 2
}
